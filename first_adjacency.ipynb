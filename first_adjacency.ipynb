{
 "cells": [
  {
   "cell_type": "code",
   "execution_count": null,
   "metadata": {},
   "outputs": [],
   "source": [
    "import pandas as pd\n",
    "import numpy as np\n",
    "import matplotlib.pyplot as plt\n",
    "import os"
   ]
  },
  {
   "cell_type": "code",
   "execution_count": null,
   "metadata": {},
   "outputs": [],
   "source": [
    "zone = 0\n",
    "input_folder = f\"6_all_data_table/zone_{zone}\"\n",
    "for f in os.listdir(input_folder):\n",
    "    filename=f\n",
    "    break\n",
    "data = pd.read_csv(input_folder+\"/\"+filename)[['latitude', 'longitude']]\n",
    "data = data.drop_duplicates()\n",
    "\n",
    "lat = data['latitude'].unique()\n",
    "lon = data['longitude'].unique()\n",
    "lat_ind = np.arange(1, len(lat)+1)\n",
    "lon_ind = np.arange(1, len(lon)+1)\n",
    "lat_dict = {l:i for l,i in zip(lat,lat_ind)}\n",
    "lon_dict = {l:i for l,i in zip(lon,lon_ind)}\n",
    "data['latitude_rank'] = [lat_dict[l] for l in data['latitude']]\n",
    "data['longitude_rank'] = [lon_dict[l] for l in data['longitude']]\n",
    "\n",
    "data = data.sort_values(by=['longitude', 'latitude'], ascending=[True, True]).reset_index(drop=True)\n",
    "data['index'] = data.index+1\n",
    "latitude_rank = np.array(data['latitude_rank'])\n",
    "longitude_rank = np.array(data['longitude_rank'])\n",
    "data"
   ]
  },
  {
   "cell_type": "code",
   "execution_count": null,
   "metadata": {},
   "outputs": [],
   "source": [
    "adjacency = np.zeros((len(lat)*len(lon), len(lat)*len(lon)))\n",
    "print(adjacency.shape)\n",
    "for i in range(len(lat)*len(lon)):\n",
    "    for j in range(len(lat)*len(lon)):\n",
    "        adjacency[i, j] = ((abs(latitude_rank[i] - latitude_rank[j])==1) &\n",
    "                           (abs(longitude_rank[i] - longitude_rank[j])==0) |\n",
    "                           (abs(latitude_rank[i] - latitude_rank[j])==0) &\n",
    "                           (abs(longitude_rank[i] - longitude_rank[j])==1))"
   ]
  },
  {
   "cell_type": "code",
   "execution_count": null,
   "metadata": {},
   "outputs": [],
   "source": [
    "node1=[]\n",
    "node2=[]\n",
    "for i in range(adjacency.shape[0]):\n",
    "    for j in range(i+1, adjacency.shape[0]):\n",
    "        if adjacency[i,j]==1:\n",
    "            node1.append(i+1)\n",
    "            node2.append(j+1)"
   ]
  },
  {
   "cell_type": "code",
   "execution_count": null,
   "metadata": {},
   "outputs": [],
   "source": [
    "nodes = pd.DataFrame({'node1':node1, 'node2':node2})\n",
    "nodes.to_csv(f'10_nodes/nodes_zone_{zone}.csv')"
   ]
  },
  {
   "cell_type": "code",
   "execution_count": null,
   "metadata": {},
   "outputs": [],
   "source": []
  }
 ],
 "metadata": {
  "kernelspec": {
   "display_name": "M4R_venv",
   "language": "python",
   "name": "python3"
  },
  "language_info": {
   "codemirror_mode": {
    "name": "ipython",
    "version": 3
   },
   "file_extension": ".py",
   "mimetype": "text/x-python",
   "name": "python",
   "nbconvert_exporter": "python",
   "pygments_lexer": "ipython3",
   "version": "3.11.1"
  }
 },
 "nbformat": 4,
 "nbformat_minor": 2
}
