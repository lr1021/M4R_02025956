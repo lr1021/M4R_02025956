{
 "cells": [
  {
   "cell_type": "code",
   "execution_count": null,
   "metadata": {},
   "outputs": [],
   "source": [
    "import numpy as np\n",
    "import pandas as pd\n",
    "import matplotlib.pyplot as plt"
   ]
  },
  {
   "cell_type": "code",
   "execution_count": null,
   "metadata": {},
   "outputs": [],
   "source": [
    "model_n = 12\n",
    "sparse = 0\n",
    "time_steps = [83, 85]\n",
    "\n",
    "# Input Files\n",
    "if sparse:\n",
    "    draws_filename = f\"/Volumes/KINGSTON/M4R_usb/R/modular_long/nm{model_n}[{time_steps[0]}-{time_steps[1]}]_sparse_draws.csv\"\n",
    "else:\n",
    "    draws_filename = f\"/Volumes/KINGSTON/M4R_usb/R/modular_long/nm{model_n}[{time_steps[0]}-{time_steps[1]}]_draws.csv\"\n",
    "\n",
    "# Read and Process Draws\n",
    "draws = pd.read_csv(draws_filename)"
   ]
  },
  {
   "cell_type": "code",
   "execution_count": null,
   "metadata": {},
   "outputs": [],
   "source": [
    "indices = np.arange(len(draws))\n",
    "fig, axs = plt.subplots(2, 1, figsize=(12, 5), facecolor=\"#f5ebe4\", sharex=True)\n",
    "\n",
    "# Subplot 1:\n",
    "axs[0].plot(indices[:], draws[\"w1[454]\"][:], color='blue', label=\"\", alpha=0.7, lw=0.15)\n",
    "axs[0].set_title(r\"Trace Plot of $\\omega^1$[454]\")\n",
    "axs[0].set_ylabel(\"Posterior Samples\")\n",
    "# axs[0].legend()\n",
    "\n",
    "# Subplot 2:\n",
    "axs[1].plot(indices[:], draws[\"w1[455]\"][:], color='blue', label=\"\", alpha=0.7, lw=0.15)\n",
    "axs[1].set_title(r\"Trace Plot of $\\omega^1$[455]\")\n",
    "axs[1].set_ylabel(\"Posterior Samples\")\n",
    "# axs[0].legend()\n",
    "\n",
    "fig.suptitle(r\"Model 1 ($\\boldsymbol{\\phi}$ removed) Traceplot Selection\")\n",
    "\n",
    "plt.tight_layout()\n",
    "plt.show()"
   ]
  },
  {
   "cell_type": "markdown",
   "metadata": {},
   "source": [
    "---"
   ]
  },
  {
   "cell_type": "code",
   "execution_count": null,
   "metadata": {},
   "outputs": [],
   "source": [
    "model_n = 21\n",
    "sparse = 0\n",
    "time_steps = [83, 85]\n",
    "\n",
    "# Input Files\n",
    "if sparse:\n",
    "    draws_filename = f\"/Volumes/KINGSTON/M4R_usb/R/modular_extra/nm{model_n}[{time_steps[0]}-{time_steps[1]}]_sparse_draws.csv\"\n",
    "else:\n",
    "    draws_filename = f\"/Volumes/KINGSTON/M4R_usb/R/modular_extra/nm{model_n}[{time_steps[0]}-{time_steps[1]}]_draws.csv\"\n",
    "\n",
    "# Read and Process Draws\n",
    "draws = pd.read_csv(draws_filename)"
   ]
  },
  {
   "cell_type": "code",
   "execution_count": null,
   "metadata": {},
   "outputs": [],
   "source": [
    "phi_draws = draws.loc[:, draws.columns.str.startswith(\"phi\")]\n",
    "y_pp = phi_draws + np.random.normal(loc=0, scale=1, size=phi_draws.shape)\n",
    "quantiles = y_pp.quantile([0.025, 0.975])"
   ]
  },
  {
   "cell_type": "code",
   "execution_count": null,
   "metadata": {},
   "outputs": [],
   "source": [
    "q = quantiles.T\n",
    "q.index = np.arange(1, len(q) + 1)"
   ]
  },
  {
   "cell_type": "code",
   "execution_count": null,
   "metadata": {},
   "outputs": [],
   "source": [
    "zone = 0\n",
    "y = pd.read_csv(\"smaller_zone/zone_0/c3_ALMA_1966_06.csv\", usecols=[\"coord_index\", \"time_step\", \"latitude_rank\", \"longitude_rank\", \"w10\", \"tp\"])\n",
    "y = y[(y[\"time_step\"]>=time_steps[0])&(y[\"time_step\"]<=time_steps[1])][[\"latitude_rank\", \"longitude_rank\", \"time_step\", \"w10\", \"tp\"]]\n",
    "\n",
    "zone_min_lat = min(y[\"latitude_rank\"])\n",
    "zone_min_lon = min(y[\"longitude_rank\"])\n",
    "y[\"latitude_rank\"] = y[\"latitude_rank\"] - zone_min_lat + 1\n",
    "y[\"longitude_rank\"] = y[\"longitude_rank\"] - zone_min_lon + 1\n",
    "num_lat = max(y[\"latitude_rank\"])\n",
    "y = y.sort_values(by=[\"longitude_rank\", \"latitude_rank\"])\n",
    "y[\"coord_index\"] = (y[\"longitude_rank\"]-1)*num_lat + y[\"latitude_rank\"]\n",
    "y = y.sort_values(by=\"coord_index\")\n",
    "y = y.set_index(\"coord_index\")"
   ]
  },
  {
   "cell_type": "code",
   "execution_count": null,
   "metadata": {},
   "outputs": [],
   "source": [
    "# Stack \"w10\" and \"tp\" into one column\n",
    "stacked = pd.DataFrame(y[[\"w10\", \"tp\"]].stack().reset_index(drop=True))\n",
    "# Copy selected columns\n",
    "normalized = y[[\"w10\", \"tp\"]].copy()\n",
    "\n",
    "# Normalize each column separately (z-score)\n",
    "normalized = (normalized - normalized.mean()) / normalized.std()\n",
    "\n",
    "# Stack and reset index\n",
    "stacked = pd.DataFrame(normalized.stack().reset_index(drop=True), columns=[\"value\"])\n",
    "# Reset index from 1 to N\n",
    "stacked.index = np.arange(1, len(stacked) + 1)\n",
    "stacked[0.025] = q[0.025]\n",
    "stacked[0.975] = q[0.975]"
   ]
  },
  {
   "cell_type": "code",
   "execution_count": null,
   "metadata": {},
   "outputs": [],
   "source": [
    "stacked[\"in_interval\"] = ((stacked[\"value\"] >= stacked[0.025]) & \n",
    "                          (stacked[\"value\"] <= stacked[0.975])).astype(int)"
   ]
  },
  {
   "cell_type": "code",
   "execution_count": null,
   "metadata": {},
   "outputs": [],
   "source": [
    "stacked[\"in_interval\"].mean()"
   ]
  },
  {
   "cell_type": "code",
   "execution_count": null,
   "metadata": {},
   "outputs": [],
   "source": []
  }
 ],
 "metadata": {
  "kernelspec": {
   "display_name": "M4R_venv",
   "language": "python",
   "name": "python3"
  },
  "language_info": {
   "codemirror_mode": {
    "name": "ipython",
    "version": 3
   },
   "file_extension": ".py",
   "mimetype": "text/x-python",
   "name": "python",
   "nbconvert_exporter": "python",
   "pygments_lexer": "ipython3",
   "version": "3.11.1"
  }
 },
 "nbformat": 4,
 "nbformat_minor": 2
}
